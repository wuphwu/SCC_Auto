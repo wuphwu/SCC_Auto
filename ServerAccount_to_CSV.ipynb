{
  "nbformat": 4,
  "nbformat_minor": 0,
  "metadata": {
    "colab": {
      "provenance": [],
      "authorship_tag": "ABX9TyOyA5N7EM9CTfarVI7AlDCn",
      "include_colab_link": true
    },
    "kernelspec": {
      "name": "python3",
      "display_name": "Python 3"
    },
    "language_info": {
      "name": "python"
    }
  },
  "cells": [
    {
      "cell_type": "markdown",
      "metadata": {
        "id": "view-in-github",
        "colab_type": "text"
      },
      "source": [
        "<a href=\"https://colab.research.google.com/github/wuphwu/SCC_Auto/blob/main/ServerAccount_to_CSV.ipynb\" target=\"_parent\"><img src=\"https://colab.research.google.com/assets/colab-badge.svg\" alt=\"Open In Colab\"/></a>"
      ]
    },
    {
      "cell_type": "markdown",
      "source": [
        "用於彙整伺服器產生的Account List文字檔\n",
        "要手動上傳(多個)Account List文字檔到\"/content/data\"\n"
      ],
      "metadata": {
        "id": "RF5Pp0bK6mMi"
      }
    },
    {
      "cell_type": "code",
      "source": [
        "import os\n",
        "import shutil\n",
        "import csv\n",
        "import pandas as pd\n",
        "from google.colab import files"
      ],
      "metadata": {
        "id": "reVXtFDb6Mgg"
      },
      "execution_count": 7,
      "outputs": []
    },
    {
      "cell_type": "code",
      "source": [
        "directory = \"/content/data\"\n",
        "\n",
        "# 如果目錄存在，則刪除\n",
        "if os.path.exists(directory):\n",
        "    shutil.rmtree(directory)\n",
        "    print(f\"目錄 {directory} 已刪除\")\n",
        "\n",
        "# 重新建立目錄\n",
        "os.makedirs(directory)\n",
        "print(f\"目錄 {directory} 已建立\")"
      ],
      "metadata": {
        "colab": {
          "base_uri": "https://localhost:8080/"
        },
        "id": "b0vzrGXS7S1u",
        "outputId": "e3078a6a-6e52-41cd-bbc4-43dd33158014"
      },
      "execution_count": 8,
      "outputs": [
        {
          "output_type": "stream",
          "name": "stdout",
          "text": [
            "目錄 /content/data 已刪除\n",
            "目錄 /content/data 已建立\n"
          ]
        }
      ]
    },
    {
      "cell_type": "code",
      "source": [
        "# 讓使用者上傳檔案\n",
        "uploaded = files.upload()\n",
        "\n",
        "# 移動檔案到 `/content/data/`\n",
        "for filename in uploaded.keys():\n",
        "    os.rename(filename, os.path.join(directory, filename))"
      ],
      "metadata": {
        "colab": {
          "base_uri": "https://localhost:8080/",
          "height": 978
        },
        "id": "UsS4nSD38uXT",
        "outputId": "900d54eb-dbb3-4ce8-cbf7-d25d860c4be8"
      },
      "execution_count": 9,
      "outputs": [
        {
          "output_type": "display_data",
          "data": {
            "text/plain": [
              "<IPython.core.display.HTML object>"
            ],
            "text/html": [
              "\n",
              "     <input type=\"file\" id=\"files-8c117fd4-d1e1-4dd6-9e8f-99bf416976fa\" name=\"files[]\" multiple disabled\n",
              "        style=\"border:none\" />\n",
              "     <output id=\"result-8c117fd4-d1e1-4dd6-9e8f-99bf416976fa\">\n",
              "      Upload widget is only available when the cell has been executed in the\n",
              "      current browser session. Please rerun this cell to enable.\n",
              "      </output>\n",
              "      <script>// Copyright 2017 Google LLC\n",
              "//\n",
              "// Licensed under the Apache License, Version 2.0 (the \"License\");\n",
              "// you may not use this file except in compliance with the License.\n",
              "// You may obtain a copy of the License at\n",
              "//\n",
              "//      http://www.apache.org/licenses/LICENSE-2.0\n",
              "//\n",
              "// Unless required by applicable law or agreed to in writing, software\n",
              "// distributed under the License is distributed on an \"AS IS\" BASIS,\n",
              "// WITHOUT WARRANTIES OR CONDITIONS OF ANY KIND, either express or implied.\n",
              "// See the License for the specific language governing permissions and\n",
              "// limitations under the License.\n",
              "\n",
              "/**\n",
              " * @fileoverview Helpers for google.colab Python module.\n",
              " */\n",
              "(function(scope) {\n",
              "function span(text, styleAttributes = {}) {\n",
              "  const element = document.createElement('span');\n",
              "  element.textContent = text;\n",
              "  for (const key of Object.keys(styleAttributes)) {\n",
              "    element.style[key] = styleAttributes[key];\n",
              "  }\n",
              "  return element;\n",
              "}\n",
              "\n",
              "// Max number of bytes which will be uploaded at a time.\n",
              "const MAX_PAYLOAD_SIZE = 100 * 1024;\n",
              "\n",
              "function _uploadFiles(inputId, outputId) {\n",
              "  const steps = uploadFilesStep(inputId, outputId);\n",
              "  const outputElement = document.getElementById(outputId);\n",
              "  // Cache steps on the outputElement to make it available for the next call\n",
              "  // to uploadFilesContinue from Python.\n",
              "  outputElement.steps = steps;\n",
              "\n",
              "  return _uploadFilesContinue(outputId);\n",
              "}\n",
              "\n",
              "// This is roughly an async generator (not supported in the browser yet),\n",
              "// where there are multiple asynchronous steps and the Python side is going\n",
              "// to poll for completion of each step.\n",
              "// This uses a Promise to block the python side on completion of each step,\n",
              "// then passes the result of the previous step as the input to the next step.\n",
              "function _uploadFilesContinue(outputId) {\n",
              "  const outputElement = document.getElementById(outputId);\n",
              "  const steps = outputElement.steps;\n",
              "\n",
              "  const next = steps.next(outputElement.lastPromiseValue);\n",
              "  return Promise.resolve(next.value.promise).then((value) => {\n",
              "    // Cache the last promise value to make it available to the next\n",
              "    // step of the generator.\n",
              "    outputElement.lastPromiseValue = value;\n",
              "    return next.value.response;\n",
              "  });\n",
              "}\n",
              "\n",
              "/**\n",
              " * Generator function which is called between each async step of the upload\n",
              " * process.\n",
              " * @param {string} inputId Element ID of the input file picker element.\n",
              " * @param {string} outputId Element ID of the output display.\n",
              " * @return {!Iterable<!Object>} Iterable of next steps.\n",
              " */\n",
              "function* uploadFilesStep(inputId, outputId) {\n",
              "  const inputElement = document.getElementById(inputId);\n",
              "  inputElement.disabled = false;\n",
              "\n",
              "  const outputElement = document.getElementById(outputId);\n",
              "  outputElement.innerHTML = '';\n",
              "\n",
              "  const pickedPromise = new Promise((resolve) => {\n",
              "    inputElement.addEventListener('change', (e) => {\n",
              "      resolve(e.target.files);\n",
              "    });\n",
              "  });\n",
              "\n",
              "  const cancel = document.createElement('button');\n",
              "  inputElement.parentElement.appendChild(cancel);\n",
              "  cancel.textContent = 'Cancel upload';\n",
              "  const cancelPromise = new Promise((resolve) => {\n",
              "    cancel.onclick = () => {\n",
              "      resolve(null);\n",
              "    };\n",
              "  });\n",
              "\n",
              "  // Wait for the user to pick the files.\n",
              "  const files = yield {\n",
              "    promise: Promise.race([pickedPromise, cancelPromise]),\n",
              "    response: {\n",
              "      action: 'starting',\n",
              "    }\n",
              "  };\n",
              "\n",
              "  cancel.remove();\n",
              "\n",
              "  // Disable the input element since further picks are not allowed.\n",
              "  inputElement.disabled = true;\n",
              "\n",
              "  if (!files) {\n",
              "    return {\n",
              "      response: {\n",
              "        action: 'complete',\n",
              "      }\n",
              "    };\n",
              "  }\n",
              "\n",
              "  for (const file of files) {\n",
              "    const li = document.createElement('li');\n",
              "    li.append(span(file.name, {fontWeight: 'bold'}));\n",
              "    li.append(span(\n",
              "        `(${file.type || 'n/a'}) - ${file.size} bytes, ` +\n",
              "        `last modified: ${\n",
              "            file.lastModifiedDate ? file.lastModifiedDate.toLocaleDateString() :\n",
              "                                    'n/a'} - `));\n",
              "    const percent = span('0% done');\n",
              "    li.appendChild(percent);\n",
              "\n",
              "    outputElement.appendChild(li);\n",
              "\n",
              "    const fileDataPromise = new Promise((resolve) => {\n",
              "      const reader = new FileReader();\n",
              "      reader.onload = (e) => {\n",
              "        resolve(e.target.result);\n",
              "      };\n",
              "      reader.readAsArrayBuffer(file);\n",
              "    });\n",
              "    // Wait for the data to be ready.\n",
              "    let fileData = yield {\n",
              "      promise: fileDataPromise,\n",
              "      response: {\n",
              "        action: 'continue',\n",
              "      }\n",
              "    };\n",
              "\n",
              "    // Use a chunked sending to avoid message size limits. See b/62115660.\n",
              "    let position = 0;\n",
              "    do {\n",
              "      const length = Math.min(fileData.byteLength - position, MAX_PAYLOAD_SIZE);\n",
              "      const chunk = new Uint8Array(fileData, position, length);\n",
              "      position += length;\n",
              "\n",
              "      const base64 = btoa(String.fromCharCode.apply(null, chunk));\n",
              "      yield {\n",
              "        response: {\n",
              "          action: 'append',\n",
              "          file: file.name,\n",
              "          data: base64,\n",
              "        },\n",
              "      };\n",
              "\n",
              "      let percentDone = fileData.byteLength === 0 ?\n",
              "          100 :\n",
              "          Math.round((position / fileData.byteLength) * 100);\n",
              "      percent.textContent = `${percentDone}% done`;\n",
              "\n",
              "    } while (position < fileData.byteLength);\n",
              "  }\n",
              "\n",
              "  // All done.\n",
              "  yield {\n",
              "    response: {\n",
              "      action: 'complete',\n",
              "    }\n",
              "  };\n",
              "}\n",
              "\n",
              "scope.google = scope.google || {};\n",
              "scope.google.colab = scope.google.colab || {};\n",
              "scope.google.colab._files = {\n",
              "  _uploadFiles,\n",
              "  _uploadFilesContinue,\n",
              "};\n",
              "})(self);\n",
              "</script> "
            ]
          },
          "metadata": {}
        },
        {
          "output_type": "stream",
          "name": "stdout",
          "text": [
            "Saving SCC-REC-NAS2.txt to SCC-REC-NAS2.txt\n",
            "Saving SCC-HYPERV-FSSL.txt to SCC-HYPERV-FSSL.txt\n",
            "Saving SCC-PPCM-DB2-BK.txt to SCC-PPCM-DB2-BK.txt\n",
            "Saving SCC-PRRE-APe.txt to SCC-PRRE-APe.txt\n",
            "Saving SCC-DL380-0049.txt to SCC-DL380-0049.txt\n",
            "Saving SCC-DL380-0063.txt to SCC-DL380-0063.txt\n",
            "Saving SCC-DDOC-AP1.txt to SCC-DDOC-AP1.txt\n",
            "Saving SCC-HYPERV-04.txt to SCC-HYPERV-04.txt\n",
            "Saving SCC-TAIPEI-BAK.txt to SCC-TAIPEI-BAK.txt\n",
            "Saving SCC-BAKSVR-01.txt to SCC-BAKSVR-01.txt\n",
            "Saving SCC-REC-0057.txt to SCC-REC-0057.txt\n",
            "Saving SCC-HYPERV-06e.txt to SCC-HYPERV-06e.txt\n",
            "Saving SCC-FSSL-AP.txt to SCC-FSSL-AP.txt\n",
            "Saving SCC-FSBL-AP.txt to SCC-FSBL-AP.txt\n",
            "Saving SCC-REC-NAS1.txt to SCC-REC-NAS1.txt\n",
            "Saving SCC-PTIC-0050.txt to SCC-PTIC-0050.txt\n",
            "Saving SCC-CDS-AP.txt to SCC-CDS-AP.txt\n",
            "Saving SCC-TBKN-APDB.txt to SCC-TBKN-APDB.txt\n",
            "Saving SCC-DL380-0048-e.txt to SCC-DL380-0048-e.txt\n",
            "Saving SCC-DDOC-AP2-E.txt to SCC-DDOC-AP2-E.txt\n",
            "Saving SCC-PSWS-AP.txt to SCC-PSWS-AP.txt\n",
            "Saving SCC-NATF-APe.txt to SCC-NATF-APe.txt\n",
            "Saving SCC-MONITOR67.txt to SCC-MONITOR67.txt\n",
            "Saving SCC-HYPERV-01.txt to SCC-HYPERV-01.txt\n",
            "Saving SCC-TBKN-BAKe.txt to SCC-TBKN-BAKe.txt\n",
            "Saving SCC-WSUSe.txt to SCC-WSUSe.txt\n",
            "Saving SCC-HV-0045e.txt to SCC-HV-0045e.txt\n"
          ]
        }
      ]
    },
    {
      "cell_type": "code",
      "execution_count": 10,
      "metadata": {
        "id": "LeVpv6OU2RkF"
      },
      "outputs": [],
      "source": [
        "def merge_txt_to_csv(txt_folder, output_csv):\n",
        "    with open(output_csv, mode='w', newline='', encoding='utf-8') as csv_file:\n",
        "        writer = csv.writer(csv_file)\n",
        "        writer.writerow(['server name', 'account name', 'account type', 'group'])\n",
        "\n",
        "        for file in os.listdir(txt_folder):\n",
        "            if file.endswith('.txt'):\n",
        "                server_name = os.path.splitext(file)[0]  # 檔名去掉 .txt\n",
        "                file_path = os.path.join(txt_folder, file)\n",
        "\n",
        "                with open(file_path, 'r', encoding='utf-16' ) as txt_file:\n",
        "                  datatype = 0 # 0:一開始的資料  1:本機帳號資料 2:DB帳號資料\n",
        "                  for line in txt_file:\n",
        "                    parts = line.strip().split(' ', 2)  # 按空格分割，最多分成 3 部分\n",
        "                    if datatype == 0 and parts[0] == '----':\n",
        "                      datatype = 1\n",
        "                    elif datatype == 1 and len(parts) == 3 and parts[0] != '無SQL': # name True Administrators, Users\n",
        "                      result = parts[2].replace(\"True\", \"\").strip()\n",
        "                      if \"Administrators\" in result:\n",
        "                        result = \"管理者帳號\"\n",
        "                      writer.writerow([server_name, parts[0], \"本機\" , result])\n",
        "                    elif datatype == 1 and parts[0] == '資料庫使用者:':\n",
        "                      datatype = 2\n",
        "                    elif datatype == 2 and parts[2] == '- WINDOWS_LOGIN':\n",
        "                      dbaccount = parts[1].strip().split('\\\\', 1)  # 按\\分割，最多分成 ２ 部分\n",
        "                      writer.writerow([server_name, dbaccount[1], 'SQL', \"管理者帳號\"])\n",
        "                    elif datatype == 2 and parts[2] == '- SQL_LOGIN':\n",
        "                      writer.writerow([server_name, parts[1], 'SQL', \"管理者帳號\"])\n",
        "def csv_format(input_csv, output_csv):\n",
        "  # 讀取 CSV，確保 , 分隔符\n",
        "  # 資料庫帳號資料省略目標DB，故會有重複多筆，先進行deduplicate\n",
        "  df = pd.read_csv(input_csv, sep=\",\", dtype=str).drop_duplicates()\n",
        "\n",
        "  # 確保 `account type` 欄位是字串，並填補 NaN\n",
        "  df[\"account type\"] = df[\"account type\"].astype(str).fillna(\"\")\n",
        "  df[\"group\"] = df[\"group\"].astype(str).fillna(\"\")\n",
        "\n",
        "  # 合併相同的 `server name` 和 `account name`\n",
        "  df_merged = df.groupby([\"server name\", \"account name\", \"group\"], as_index=False)[\"account type\"].agg(lambda x: \", \".join(filter(None, x)))\n",
        "\n",
        "  # 重新排列欄位\n",
        "  new_order = [\"server name\", \"account name\", \"account type\",\"group\"]\n",
        "  df_merged = df_merged[new_order]  # 按照新順序重新排序\n",
        "\n",
        "  # 儲存新的 CSV\n",
        "  df_merged.to_csv(output_csv, sep=\",\", index=False, encoding=\"utf-8-sig\")\n",
        "\n",
        "\n",
        "\n",
        "\n"
      ]
    },
    {
      "cell_type": "code",
      "source": [
        "# 設定資料夾與輸出檔案路徑\n",
        "txt_folder = directory  # 本地工作目錄中的資料夾\n",
        "output_csv = '/content/merged_accounts.csv'  # 存儲 CSV 檔案的路徑\n",
        "\n",
        "merge_txt_to_csv(txt_folder, output_csv)\n",
        "# print(f'合併完成，CSV 檔案儲存於: {output_csv}')\n",
        "\n",
        "\n",
        "final_csv = \"/content/accounts_final.csv\" # 輸出的 CSV 檔案\n",
        "csv_format(output_csv, final_csv)\n",
        "print(f\"合併完成，CSV 檔案儲存於: {final_csv}\")"
      ],
      "metadata": {
        "colab": {
          "base_uri": "https://localhost:8080/"
        },
        "id": "vN3N2c3V6TbX",
        "outputId": "bd7891ee-3949-48ec-8660-f45900935a86"
      },
      "execution_count": 11,
      "outputs": [
        {
          "output_type": "stream",
          "name": "stdout",
          "text": [
            "合併完成，CSV 檔案儲存於: /content/accounts_final.csv\n"
          ]
        }
      ]
    },
    {
      "cell_type": "code",
      "source": [
        "# 刪除 temp_file\n",
        "try:\n",
        "    temp_file = \"/content/merged_accounts.csv\"\n",
        "    if os.path.exists(temp_file):\n",
        "        os.remove(temp_file)\n",
        "        print(f\"{temp_file} 已成功刪除\")\n",
        "    else:\n",
        "        print(f\"{temp_file} 不存在，無需刪除\")\n",
        "except Exception as e:\n",
        "    print(f\"刪除 {temp_file} 時發生錯誤: {e}\")"
      ],
      "metadata": {
        "colab": {
          "base_uri": "https://localhost:8080/"
        },
        "id": "ADAEo75y7wq5",
        "outputId": "691a205a-24bb-461d-e048-d15cd271546c"
      },
      "execution_count": 12,
      "outputs": [
        {
          "output_type": "stream",
          "name": "stdout",
          "text": [
            "/content/merged_accounts.csv 已成功刪除\n"
          ]
        }
      ]
    }
  ]
}